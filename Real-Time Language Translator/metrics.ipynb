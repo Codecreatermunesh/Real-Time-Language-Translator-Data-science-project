{
 "cells": [
  {
   "cell_type": "code",
   "execution_count": 1,
   "metadata": {},
   "outputs": [
    {
     "name": "stdout",
     "output_type": "stream",
     "text": [
      "Requirement already satisfied: torchmetrics in /home/sharchit/anaconda3/lib/python3.9/site-packages (0.11.4)\n",
      "Requirement already satisfied: torch>=1.8.1 in /home/sharchit/anaconda3/lib/python3.9/site-packages (from torchmetrics) (1.13.1)\n",
      "Requirement already satisfied: numpy>=1.17.2 in /home/sharchit/anaconda3/lib/python3.9/site-packages (from torchmetrics) (1.21.5)\n",
      "Requirement already satisfied: packaging in /home/sharchit/anaconda3/lib/python3.9/site-packages (from torchmetrics) (21.3)\n",
      "Requirement already satisfied: nvidia-cuda-nvrtc-cu11==11.7.99 in /home/sharchit/anaconda3/lib/python3.9/site-packages (from torch>=1.8.1->torchmetrics) (11.7.99)\n",
      "Requirement already satisfied: nvidia-cublas-cu11==11.10.3.66 in /home/sharchit/anaconda3/lib/python3.9/site-packages (from torch>=1.8.1->torchmetrics) (11.10.3.66)\n",
      "Requirement already satisfied: nvidia-cuda-runtime-cu11==11.7.99 in /home/sharchit/anaconda3/lib/python3.9/site-packages (from torch>=1.8.1->torchmetrics) (11.7.99)\n",
      "Requirement already satisfied: nvidia-cudnn-cu11==8.5.0.96 in /home/sharchit/anaconda3/lib/python3.9/site-packages (from torch>=1.8.1->torchmetrics) (8.5.0.96)\n",
      "Requirement already satisfied: typing-extensions in /home/sharchit/anaconda3/lib/python3.9/site-packages (from torch>=1.8.1->torchmetrics) (4.3.0)\n",
      "Requirement already satisfied: wheel in /home/sharchit/anaconda3/lib/python3.9/site-packages (from nvidia-cublas-cu11==11.10.3.66->torch>=1.8.1->torchmetrics) (0.37.1)\n",
      "Requirement already satisfied: setuptools in /home/sharchit/anaconda3/lib/python3.9/site-packages (from nvidia-cublas-cu11==11.10.3.66->torch>=1.8.1->torchmetrics) (68.0.0)\n",
      "Requirement already satisfied: pyparsing!=3.0.5,>=2.0.2 in /home/sharchit/anaconda3/lib/python3.9/site-packages (from packaging->torchmetrics) (3.0.9)\n"
     ]
    }
   ],
   "source": [
    "!pip install torchmetrics"
   ]
  },
  {
   "cell_type": "code",
   "execution_count": 2,
   "metadata": {},
   "outputs": [],
   "source": [
    "import torch\n",
    "import pandas as pd\n",
    "from nltk.translate.bleu_score import sentence_bleu, corpus_bleu"
   ]
  },
  {
   "cell_type": "code",
   "execution_count": 3,
   "metadata": {},
   "outputs": [
    {
     "data": {
      "text/plain": [
       "'1.13.1+cu117'"
      ]
     },
     "execution_count": 3,
     "metadata": {},
     "output_type": "execute_result"
    }
   ],
   "source": [
    "torch.__version__"
   ]
  },
  {
   "cell_type": "code",
   "execution_count": 4,
   "metadata": {},
   "outputs": [],
   "source": [
    "# read the predictions\n",
    "df = pd.read_csv('preds.csv')\n",
    "df = df[['english', 'actual_hindi', 'predicted_hindi']]"
   ]
  },
  {
   "cell_type": "code",
   "execution_count": 5,
   "metadata": {},
   "outputs": [
    {
     "data": {
      "text/html": [
       "<div>\n",
       "<style scoped>\n",
       "    .dataframe tbody tr th:only-of-type {\n",
       "        vertical-align: middle;\n",
       "    }\n",
       "\n",
       "    .dataframe tbody tr th {\n",
       "        vertical-align: top;\n",
       "    }\n",
       "\n",
       "    .dataframe thead th {\n",
       "        text-align: right;\n",
       "    }\n",
       "</style>\n",
       "<table border=\"1\" class=\"dataframe\">\n",
       "  <thead>\n",
       "    <tr style=\"text-align: right;\">\n",
       "      <th></th>\n",
       "      <th>english</th>\n",
       "      <th>actual_hindi</th>\n",
       "      <th>predicted_hindi</th>\n",
       "    </tr>\n",
       "  </thead>\n",
       "  <tbody>\n",
       "    <tr>\n",
       "      <th>0</th>\n",
       "      <td>description of an object formatted for assisti...</td>\n",
       "      <td>मददगार तकनीक पँहुच हेतु प्रारूपित वस्तु का वर...</td>\n",
       "      <td>मददगार तकनीक पँहुच हेतु प्रारूपित वस्तु का वर...</td>\n",
       "    </tr>\n",
       "    <tr>\n",
       "      <th>1</th>\n",
       "      <td>ten of diamonds</td>\n",
       "      <td>ईंट का दहला</td>\n",
       "      <td>ईंट का दहला</td>\n",
       "    </tr>\n",
       "    <tr>\n",
       "      <th>2</th>\n",
       "      <td>vertical expand</td>\n",
       "      <td>अनुलंब विस्तार</td>\n",
       "      <td>अनुलंब विस्तार</td>\n",
       "    </tr>\n",
       "    <tr>\n",
       "      <th>3</th>\n",
       "      <td>cancel loading</td>\n",
       "      <td>लोड करना रद्द करें c</td>\n",
       "      <td>लोड करना रद्द करें c</td>\n",
       "    </tr>\n",
       "    <tr>\n",
       "      <th>4</th>\n",
       "      <td>run</td>\n",
       "      <td>चलाएँ r</td>\n",
       "      <td>चलाएँ r</td>\n",
       "    </tr>\n",
       "    <tr>\n",
       "      <th>5</th>\n",
       "      <td>description</td>\n",
       "      <td>वर्णन</td>\n",
       "      <td>विवरणः</td>\n",
       "    </tr>\n",
       "    <tr>\n",
       "      <th>6</th>\n",
       "      <td>double click any card to redeal</td>\n",
       "      <td>फिर बांटने के लिये किसी कार्ड को दो बार क्लिक...</td>\n",
       "      <td>फिर बांटने के लिये किसी कार्ड को दो बार क्लिक</td>\n",
       "    </tr>\n",
       "    <tr>\n",
       "      <th>7</th>\n",
       "      <td>start a rebase operation relative to the selec...</td>\n",
       "      <td>प्रारंभ a को चयनित रिमोट</td>\n",
       "      <td>प्रारंभ a को चयनित रिमोट</td>\n",
       "    </tr>\n",
       "    <tr>\n",
       "      <th>8</th>\n",
       "      <td>eight of spades</td>\n",
       "      <td>हुकुम का अट्ठा</td>\n",
       "      <td>हुकुम का अट्ठा</td>\n",
       "    </tr>\n",
       "    <tr>\n",
       "      <th>9</th>\n",
       "      <td>switch to branch tag</td>\n",
       "      <td>बदलें को</td>\n",
       "      <td>बदलें को</td>\n",
       "    </tr>\n",
       "  </tbody>\n",
       "</table>\n",
       "</div>"
      ],
      "text/plain": [
       "                                             english  \\\n",
       "0  description of an object formatted for assisti...   \n",
       "1                                    ten of diamonds   \n",
       "2                                    vertical expand   \n",
       "3                                     cancel loading   \n",
       "4                                                run   \n",
       "5                                        description   \n",
       "6                    double click any card to redeal   \n",
       "7  start a rebase operation relative to the selec...   \n",
       "8                                    eight of spades   \n",
       "9                               switch to branch tag   \n",
       "\n",
       "                                        actual_hindi  \\\n",
       "0   मददगार तकनीक पँहुच हेतु प्रारूपित वस्तु का वर...   \n",
       "1                                       ईंट का दहला    \n",
       "2                                    अनुलंब विस्तार    \n",
       "3                              लोड करना रद्द करें c    \n",
       "4                                           चलाएँ r    \n",
       "5                                             वर्णन    \n",
       "6   फिर बांटने के लिये किसी कार्ड को दो बार क्लिक...   \n",
       "7                          प्रारंभ a को चयनित रिमोट    \n",
       "8                                    हुकुम का अट्ठा    \n",
       "9                                          बदलें को    \n",
       "\n",
       "                                     predicted_hindi  \n",
       "0   मददगार तकनीक पँहुच हेतु प्रारूपित वस्तु का वर...  \n",
       "1                                       ईंट का दहला   \n",
       "2                                    अनुलंब विस्तार   \n",
       "3                              लोड करना रद्द करें c   \n",
       "4                                           चलाएँ r   \n",
       "5                                            विवरणः   \n",
       "6      फिर बांटने के लिये किसी कार्ड को दो बार क्लिक  \n",
       "7                          प्रारंभ a को चयनित रिमोट   \n",
       "8                                    हुकुम का अट्ठा   \n",
       "9                                          बदलें को   "
      ]
     },
     "execution_count": 5,
     "metadata": {},
     "output_type": "execute_result"
    }
   ],
   "source": [
    "df.head(10)"
   ]
  },
  {
   "cell_type": "code",
   "execution_count": 6,
   "metadata": {},
   "outputs": [],
   "source": [
    "# function to tokenize and predict the words\n",
    "def calculate_bleu(actual, predicted):\n",
    "    actual_tokens = [word for word in actual.split()]\n",
    "    predicted_tokens = [word for word in predicted.split()]\n",
    "    return sentence_bleu([actual_tokens], predicted_tokens)"
   ]
  },
  {
   "cell_type": "code",
   "execution_count": 7,
   "metadata": {},
   "outputs": [
    {
     "name": "stderr",
     "output_type": "stream",
     "text": [
      "/home/sharchit/anaconda3/lib/python3.9/site-packages/nltk/translate/bleu_score.py:552: UserWarning: \n",
      "The hypothesis contains 0 counts of 4-gram overlaps.\n",
      "Therefore the BLEU score evaluates to 0, independently of\n",
      "how many N-gram overlaps of lower order it contains.\n",
      "Consider using lower n-gram order or use SmoothingFunction()\n",
      "  warnings.warn(_msg)\n",
      "/home/sharchit/anaconda3/lib/python3.9/site-packages/nltk/translate/bleu_score.py:552: UserWarning: \n",
      "The hypothesis contains 0 counts of 3-gram overlaps.\n",
      "Therefore the BLEU score evaluates to 0, independently of\n",
      "how many N-gram overlaps of lower order it contains.\n",
      "Consider using lower n-gram order or use SmoothingFunction()\n",
      "  warnings.warn(_msg)\n",
      "/home/sharchit/anaconda3/lib/python3.9/site-packages/nltk/translate/bleu_score.py:552: UserWarning: \n",
      "The hypothesis contains 0 counts of 2-gram overlaps.\n",
      "Therefore the BLEU score evaluates to 0, independently of\n",
      "how many N-gram overlaps of lower order it contains.\n",
      "Consider using lower n-gram order or use SmoothingFunction()\n",
      "  warnings.warn(_msg)\n"
     ]
    }
   ],
   "source": [
    "# compute the bleu score and add it as a column\n",
    "df['bleu_score'] = df.apply(lambda row: calculate_bleu(row['actual_hindi'], row['predicted_hindi']), axis=1)"
   ]
  },
  {
   "cell_type": "code",
   "execution_count": 8,
   "metadata": {},
   "outputs": [
    {
     "data": {
      "text/html": [
       "<div>\n",
       "<style scoped>\n",
       "    .dataframe tbody tr th:only-of-type {\n",
       "        vertical-align: middle;\n",
       "    }\n",
       "\n",
       "    .dataframe tbody tr th {\n",
       "        vertical-align: top;\n",
       "    }\n",
       "\n",
       "    .dataframe thead th {\n",
       "        text-align: right;\n",
       "    }\n",
       "</style>\n",
       "<table border=\"1\" class=\"dataframe\">\n",
       "  <thead>\n",
       "    <tr style=\"text-align: right;\">\n",
       "      <th></th>\n",
       "      <th>english</th>\n",
       "      <th>actual_hindi</th>\n",
       "      <th>predicted_hindi</th>\n",
       "      <th>bleu_score</th>\n",
       "    </tr>\n",
       "  </thead>\n",
       "  <tbody>\n",
       "    <tr>\n",
       "      <th>0</th>\n",
       "      <td>description of an object formatted for assisti...</td>\n",
       "      <td>मददगार तकनीक पँहुच हेतु प्रारूपित वस्तु का वर...</td>\n",
       "      <td>मददगार तकनीक पँहुच हेतु प्रारूपित वस्तु का वर...</td>\n",
       "      <td>1.000000e+00</td>\n",
       "    </tr>\n",
       "    <tr>\n",
       "      <th>1</th>\n",
       "      <td>ten of diamonds</td>\n",
       "      <td>ईंट का दहला</td>\n",
       "      <td>ईंट का दहला</td>\n",
       "      <td>1.221339e-77</td>\n",
       "    </tr>\n",
       "    <tr>\n",
       "      <th>2</th>\n",
       "      <td>vertical expand</td>\n",
       "      <td>अनुलंब विस्तार</td>\n",
       "      <td>अनुलंब विस्तार</td>\n",
       "      <td>1.491668e-154</td>\n",
       "    </tr>\n",
       "    <tr>\n",
       "      <th>3</th>\n",
       "      <td>cancel loading</td>\n",
       "      <td>लोड करना रद्द करें c</td>\n",
       "      <td>लोड करना रद्द करें c</td>\n",
       "      <td>1.000000e+00</td>\n",
       "    </tr>\n",
       "    <tr>\n",
       "      <th>4</th>\n",
       "      <td>run</td>\n",
       "      <td>चलाएँ r</td>\n",
       "      <td>चलाएँ r</td>\n",
       "      <td>1.491668e-154</td>\n",
       "    </tr>\n",
       "  </tbody>\n",
       "</table>\n",
       "</div>"
      ],
      "text/plain": [
       "                                             english  \\\n",
       "0  description of an object formatted for assisti...   \n",
       "1                                    ten of diamonds   \n",
       "2                                    vertical expand   \n",
       "3                                     cancel loading   \n",
       "4                                                run   \n",
       "\n",
       "                                        actual_hindi  \\\n",
       "0   मददगार तकनीक पँहुच हेतु प्रारूपित वस्तु का वर...   \n",
       "1                                       ईंट का दहला    \n",
       "2                                    अनुलंब विस्तार    \n",
       "3                              लोड करना रद्द करें c    \n",
       "4                                           चलाएँ r    \n",
       "\n",
       "                                     predicted_hindi     bleu_score  \n",
       "0   मददगार तकनीक पँहुच हेतु प्रारूपित वस्तु का वर...   1.000000e+00  \n",
       "1                                       ईंट का दहला    1.221339e-77  \n",
       "2                                    अनुलंब विस्तार   1.491668e-154  \n",
       "3                              लोड करना रद्द करें c    1.000000e+00  \n",
       "4                                           चलाएँ r   1.491668e-154  "
      ]
     },
     "execution_count": 8,
     "metadata": {},
     "output_type": "execute_result"
    }
   ],
   "source": [
    "df.head()"
   ]
  },
  {
   "cell_type": "code",
   "execution_count": 9,
   "metadata": {},
   "outputs": [
    {
     "name": "stdout",
     "output_type": "stream",
     "text": [
      "Max:  1.0\n",
      "Min:  0.0\n",
      "Avg:  0.19730784999348758\n",
      "Med:  1.2213386697554703e-77\n",
      "Std:  0.4739790076105748\n"
     ]
    }
   ],
   "source": [
    "# print relevant statistics\n",
    "print(f'Max: ', df.bleu_score.max())\n",
    "print(f'Min: ', df.bleu_score.min())\n",
    "print(f'Avg: ', df.bleu_score.mean())\n",
    "print(f'Med: ', df.bleu_score.median())\n",
    "print(f'Std: ', df.bleu_score.std())"
   ]
  }
 ],
 "metadata": {
  "kernelspec": {
   "display_name": "base",
   "language": "python",
   "name": "python3"
  },
  "language_info": {
   "codemirror_mode": {
    "name": "ipython",
    "version": 3
   },
   "file_extension": ".py",
   "mimetype": "text/x-python",
   "name": "python",
   "nbconvert_exporter": "python",
   "pygments_lexer": "ipython3",
   "version": "3.9.13"
  }
 },
 "nbformat": 4,
 "nbformat_minor": 2
}
