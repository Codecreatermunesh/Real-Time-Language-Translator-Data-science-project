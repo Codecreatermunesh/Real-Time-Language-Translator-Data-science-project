{
 "cells": [
  {
   "cell_type": "code",
   "execution_count": 2,
   "metadata": {},
   "outputs": [],
   "source": [
    "import pandas as pd\n",
    "import re\n",
    "import string"
   ]
  },
  {
   "cell_type": "code",
   "execution_count": 3,
   "metadata": {},
   "outputs": [],
   "source": [
    "# remove punctuation and return the cleaned strings with added start and end tokens\n",
    "def clean_data(x: str):\n",
    "    exclude = set(string.punctuation)\n",
    "    cleaned_string = \"\".join([ch for ch in x if ch not in exclude])\n",
    "    return '<sos> ' + cleaned_string.lower().strip() + ' <eos>'"
   ]
  },
  {
   "cell_type": "code",
   "execution_count": 3,
   "metadata": {},
   "outputs": [],
   "source": [
    "# read the provided training files and save the raw strings in a pandas dataframe\n",
    "with open('./MT/english.train') as f_eng:\n",
    "    eng_train = f_eng.readlines()\n",
    "\n",
    "with open('./MT/hindi.train') as f_hin:\n",
    "    hin_train = f_hin.readlines()\n",
    "\n",
    "df = pd.DataFrame({'english': eng_train, 'hindi': hin_train})\n",
    "\n",
    "df.to_csv('raw_train.csv', index=False)"
   ]
  },
  {
   "cell_type": "code",
   "execution_count": 4,
   "metadata": {},
   "outputs": [],
   "source": [
    "# read the provided testing files and save the raw strings in a pandas dataframe\n",
    "with open('./MT/english.test') as f_eng:\n",
    "    eng_train = f_eng.readlines()\n",
    "\n",
    "with open('./MT/hindi.test') as f_hin:\n",
    "    hin_train = f_hin.readlines()\n",
    "\n",
    "df = pd.DataFrame({'english': eng_train, 'hindi': hin_train})\n",
    "\n",
    "df.to_csv('raw_test.csv', index=False)"
   ]
  },
  {
   "cell_type": "code",
   "execution_count": 4,
   "metadata": {},
   "outputs": [],
   "source": [
    "# read the provided training files and save the cleaned strings in a pandas dataframe\n",
    "with open('./MT/english.train') as f_eng:\n",
    "    eng_train = f_eng.readlines()\n",
    "\n",
    "with open('./MT/hindi.train') as f_hin:\n",
    "    hin_train = f_hin.readlines()\n",
    "\n",
    "df = pd.DataFrame({'eng': eng_train, 'hin': hin_train})\n",
    "\n",
    "df.eng = df.eng.apply(clean_data)\n",
    "df.hin = df.hin.apply(clean_data)\n",
    "\n",
    "df.to_csv('train.csv', index=False)"
   ]
  },
  {
   "cell_type": "code",
   "execution_count": 5,
   "metadata": {},
   "outputs": [],
   "source": [
    "# read the provided testing files and save the cleaned strings in a pandas dataframe\n",
    "with open('./MT/english.test') as f_eng:\n",
    "    eng_train = f_eng.readlines()\n",
    "\n",
    "with open('./MT/hindi.test') as f_hin:\n",
    "    hin_train = f_hin.readlines()\n",
    "\n",
    "df = pd.DataFrame({'eng': eng_train, 'hin': hin_train})\n",
    "\n",
    "df.eng = df.eng.apply(clean_data)\n",
    "df.hin = df.hin.apply(clean_data)\n",
    "\n",
    "df.to_csv('test.csv', index=False)"
   ]
  },
  {
   "cell_type": "code",
   "execution_count": 6,
   "metadata": {},
   "outputs": [],
   "source": [
    "# select 15000 samples from training data \n",
    "df_train = pd.read_csv('train.csv')\n",
    "df_train_selected = df_train.sample(int(len(df_train) * 0.3))"
   ]
  },
  {
   "cell_type": "code",
   "execution_count": 7,
   "metadata": {},
   "outputs": [],
   "source": [
    "# select 752 samples from testing data \n",
    "df_test = pd.read_csv('test.csv')\n",
    "df_test_selected = df_test.sample(int(len(df_test) * 0.3))"
   ]
  },
  {
   "cell_type": "code",
   "execution_count": 8,
   "metadata": {},
   "outputs": [],
   "source": [
    "# save the sampled rows from respective files\n",
    "df_train_selected.to_csv('selected_train.csv', index=False)\n",
    "df_test_selected.to_csv('selected-test.csv', index=False)"
   ]
  }
 ],
 "metadata": {
  "kernelspec": {
   "display_name": "Python 3 (ipykernel)",
   "language": "python",
   "name": "python3"
  },
  "language_info": {
   "codemirror_mode": {
    "name": "ipython",
    "version": 3
   },
   "file_extension": ".py",
   "mimetype": "text/x-python",
   "name": "python",
   "nbconvert_exporter": "python",
   "pygments_lexer": "ipython3",
   "version": "3.10.12"
  }
 },
 "nbformat": 4,
 "nbformat_minor": 2
}
