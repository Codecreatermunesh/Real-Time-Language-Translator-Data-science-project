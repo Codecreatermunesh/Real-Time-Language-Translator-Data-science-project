{
 "cells": [
  {
   "cell_type": "code",
   "execution_count": 1,
   "metadata": {},
   "outputs": [],
   "source": [
    "import gensim\n",
    "import pandas as pd\n",
    "import numpy as np\n",
    "import pickle"
   ]
  },
  {
   "cell_type": "code",
   "execution_count": 2,
   "metadata": {},
   "outputs": [],
   "source": [
    "# read the train.csv\n",
    "df = pd.read_csv('train.csv')"
   ]
  },
  {
   "cell_type": "code",
   "execution_count": 3,
   "metadata": {},
   "outputs": [],
   "source": [
    "# find the unique english word\n",
    "eng_unique = set()\n",
    "for sentence in df.eng:\n",
    "    for word in sentence.split():\n",
    "        eng_unique.add(word)"
   ]
  },
  {
   "cell_type": "code",
   "execution_count": 4,
   "metadata": {},
   "outputs": [
    {
     "data": {
      "text/plain": [
       "3707"
      ]
     },
     "execution_count": 4,
     "metadata": {},
     "output_type": "execute_result"
    }
   ],
   "source": [
    "len(eng_unique) # print the number of english words"
   ]
  },
  {
   "cell_type": "code",
   "execution_count": 5,
   "metadata": {},
   "outputs": [],
   "source": [
    "# find the unique hindi words\n",
    "hin_unique = set()\n",
    "for sentence in df.hin:\n",
    "    for word in sentence.split():\n",
    "        hin_unique.add(word)"
   ]
  },
  {
   "cell_type": "code",
   "execution_count": 6,
   "metadata": {},
   "outputs": [
    {
     "data": {
      "text/plain": [
       "4954"
      ]
     },
     "execution_count": 6,
     "metadata": {},
     "output_type": "execute_result"
    }
   ],
   "source": [
    "len(hin_unique) # print the numbers of hindi words"
   ]
  },
  {
   "cell_type": "code",
   "execution_count": 7,
   "metadata": {},
   "outputs": [],
   "source": [
    "# load the top 200000 word2vec pretrained embeddings\n",
    "model = gensim.models.KeyedVectors.load_word2vec_format('./word2vec/model.txt', binary= False, limit=200000)"
   ]
  },
  {
   "cell_type": "code",
   "execution_count": 8,
   "metadata": {},
   "outputs": [
    {
     "name": "stdout",
     "output_type": "stream",
     "text": [
      "1382\n"
     ]
    }
   ],
   "source": [
    "# tokenize the english words and create a dictionary mapping token to embedding, if a word is not found remember its count and save it in the dictionary initialized with 0 vector of 300 dimension\n",
    "eng_embedding = {}\n",
    "eng_not_found = 0\n",
    "for indx, word in enumerate(eng_unique):\n",
    "    if word in model:\n",
    "        eng_embedding[word] = indx, model[word]\n",
    "    else:\n",
    "        eng_embedding[word] = indx, np.zeros(300)\n",
    "        eng_not_found += 1\n",
    "print(eng_not_found)"
   ]
  },
  {
   "cell_type": "code",
   "execution_count": 9,
   "metadata": {},
   "outputs": [],
   "source": [
    "# load the top 200000 fasttext embeddings in hindi\n",
    "hindi_model = gensim.models.KeyedVectors.load_word2vec_format('cc.hi.300.vec', binary=False, limit=200000)"
   ]
  },
  {
   "cell_type": "code",
   "execution_count": 10,
   "metadata": {},
   "outputs": [
    {
     "name": "stdout",
     "output_type": "stream",
     "text": [
      "1385\n"
     ]
    }
   ],
   "source": [
    "# tokenize the hindi words and create a dictionary mapping token to embedding, if a word is not found remember its count and save it in the dictionary initialized with 0 vector of 300 dimension\n",
    "hin_embedding = {}\n",
    "hin_not_found = 0\n",
    "for indx, word in enumerate(hin_unique):\n",
    "    if word in hindi_model:\n",
    "        hin_embedding[word] = indx, hindi_model[word]\n",
    "    else:\n",
    "        hin_embedding[word] = indx, np.zeros(300)\n",
    "        hin_not_found += 1\n",
    "print(hin_not_found)"
   ]
  },
  {
   "cell_type": "code",
   "execution_count": 11,
   "metadata": {},
   "outputs": [],
   "source": [
    "# dump the embeddings\n",
    "with open('english_model.pkl', 'wb') as f:\n",
    "    pickle.dump(eng_embedding, f)\n",
    "with open('hindi_model.pkl', 'wb') as f:\n",
    "    pickle.dump(hin_embedding, f)"
   ]
  }
 ],
 "metadata": {
  "kernelspec": {
   "display_name": "base",
   "language": "python",
   "name": "python3"
  },
  "language_info": {
   "codemirror_mode": {
    "name": "ipython",
    "version": 3
   },
   "file_extension": ".py",
   "mimetype": "text/x-python",
   "name": "python",
   "nbconvert_exporter": "python",
   "pygments_lexer": "ipython3",
   "version": "3.9.13"
  }
 },
 "nbformat": 4,
 "nbformat_minor": 2
}
